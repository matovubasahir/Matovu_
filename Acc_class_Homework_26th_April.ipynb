{
  "nbformat": 4,
  "nbformat_minor": 0,
  "metadata": {
    "colab": {
      "provenance": [],
      "include_colab_link": true
    },
    "kernelspec": {
      "name": "python3",
      "display_name": "Python 3"
    },
    "language_info": {
      "name": "python"
    }
  },
  "cells": [
    {
      "cell_type": "markdown",
      "metadata": {
        "id": "view-in-github",
        "colab_type": "text"
      },
      "source": [
        "<a href=\"https://colab.research.google.com/github/matovubasahir/Matovu_/blob/main/Acc_class_Homework_26th_April.ipynb\" target=\"_parent\"><img src=\"https://colab.research.google.com/assets/colab-badge.svg\" alt=\"Open In Colab\"/></a>"
      ]
    },
    {
      "cell_type": "code",
      "source": [
        "# How do you add an element to a set?\n",
        "\n",
        "my_set = {1, 2, 3}\n",
        "my_set.add(4)\n",
        "print(my_set)\n"
      ],
      "metadata": {
        "colab": {
          "base_uri": "https://localhost:8080/"
        },
        "id": "-xSdXSz4VYYg",
        "outputId": "2566a4f3-e32d-4d2d-bee2-c06edbfb50b8"
      },
      "execution_count": 2,
      "outputs": [
        {
          "output_type": "stream",
          "name": "stdout",
          "text": [
            "{1, 2, 3, 4}\n"
          ]
        }
      ]
    },
    {
      "cell_type": "markdown",
      "source": [
        "\n",
        "\n",
        "How does a set differ from a list?\n",
        "\n",
        "A set is a collection that does not allow duplicates while a list is a colletionthat allows duplicate items.\n",
        "\n",
        "Sets do not keep order as items may appear in a different order each time you look at them while Lists keep the order of the items as added.\n",
        "\n",
        "Sets can be accessed by position which is not the case for lists.\n",
        "\n",
        "Lists are slower for membership tests while sets faster for membership tests.\n",
        "\n",
        "Sets supports indexing and slicing bu sets\tdo not support indexing or slicing."
      ],
      "metadata": {
        "id": "nGdym7uzVlo4"
      }
    },
    {
      "cell_type": "code",
      "source": [
        " # What is the result of set set[1,2,1,4,2,4,1]\n",
        "set([1,2,1,4,2,4,1])\n"
      ],
      "metadata": {
        "colab": {
          "base_uri": "https://localhost:8080/"
        },
        "id": "RM1A-lDUXB4h",
        "outputId": "824ff3b8-5e7a-4226-d53e-468e6c2166e8"
      },
      "execution_count": 4,
      "outputs": [
        {
          "output_type": "execute_result",
          "data": {
            "text/plain": [
              "{1, 2, 4}"
            ]
          },
          "metadata": {},
          "execution_count": 4
        }
      ]
    },
    {
      "cell_type": "code",
      "source": [],
      "metadata": {
        "id": "zcYK0StMX9CX"
      },
      "execution_count": null,
      "outputs": []
    },
    {
      "cell_type": "code",
      "source": [
        "# What is the result of len\n",
        "len(set([1,2,1,4,2,4,1]))\n",
        ""
      ],
      "metadata": {
        "colab": {
          "base_uri": "https://localhost:8080/"
        },
        "id": "lFhum4doXWTo",
        "outputId": "491c4e88-0afb-4c75-83ab-4bf95384943f"
      },
      "execution_count": 5,
      "outputs": [
        {
          "output_type": "execute_result",
          "data": {
            "text/plain": [
              "3"
            ]
          },
          "metadata": {},
          "execution_count": 5
        }
      ]
    },
    {
      "cell_type": "code",
      "source": [
        "#the set.union brings out all the members in all sets without repeating the common ones.\n",
        "# 5 Given:\n",
        "set1 = {10, 20, 30, 40, 50}\n",
        "set2 = {30, 40, 50, 60, 70}\n",
        "\n",
        "set3 = set1.union(set2)\n",
        "print(set3)\n",
        ""
      ],
      "metadata": {
        "colab": {
          "base_uri": "https://localhost:8080/"
        },
        "id": "xMcqdBNEXipV",
        "outputId": "7808c976-b0d2-4907-f7a0-b51732dae047"
      },
      "execution_count": 6,
      "outputs": [
        {
          "output_type": "stream",
          "name": "stdout",
          "text": [
            "{70, 40, 10, 50, 20, 60, 30}\n"
          ]
        }
      ]
    },
    {
      "cell_type": "code",
      "source": [
        "\n",
        "#the symmetric_diffence returns a new set containing elements that are in either set1 or set2 but not in both.\n",
        "# 6 Given:\n",
        "set1 = {10, 20, 30, 40, 50}\n",
        "set2 = {30, 40, 50, 60, 70}\n",
        "\n",
        "set3 =set1.symmetric_difference(set2)\n",
        "print(set3)\n"
      ],
      "metadata": {
        "colab": {
          "base_uri": "https://localhost:8080/"
        },
        "id": "LE1CtvlZXzfb",
        "outputId": "62535c09-899d-4180-ad6e-1826c12ed5cd"
      },
      "execution_count": 7,
      "outputs": [
        {
          "output_type": "stream",
          "name": "stdout",
          "text": [
            "{20, 70, 10, 60}\n"
          ]
        }
      ]
    },
    {
      "cell_type": "code",
      "source": [
        "# The symmetric_difference_update enriches set manipulation by providing in-place updates that help maintain only unique elements from involved sets.\n",
        "# 7 Given:\n",
        "set1 = {10, 20, 30, 40, 50}\n",
        "set2 = {30, 40, 50, 60, 70}\n",
        "\n",
        "set1.symmetric_difference_update(set2)\n",
        "print(set1)\n",
        ""
      ],
      "metadata": {
        "colab": {
          "base_uri": "https://localhost:8080/"
        },
        "id": "DCREr2n9YEDB",
        "outputId": "b770be1f-5a07-4081-df5c-aa6eaab932ed"
      },
      "execution_count": 8,
      "outputs": [
        {
          "output_type": "stream",
          "name": "stdout",
          "text": [
            "{20, 70, 10, 60}\n"
          ]
        }
      ]
    },
    {
      "cell_type": "markdown",
      "source": [
        "# The symmetric_difference_update enriches set manipulation by providing in-place updates that help maintain only unique elements from involved sets.\n",
        "\n",
        "\n",
        "#the symmetric_diffence returns a new set containing elements that are in either set1 or set2 but not in both."
      ],
      "metadata": {
        "id": "sYcImsduYGZK"
      }
    }
  ]
}