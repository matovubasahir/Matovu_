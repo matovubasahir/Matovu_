{
  "nbformat": 4,
  "nbformat_minor": 0,
  "metadata": {
    "colab": {
      "provenance": [],
      "include_colab_link": true
    },
    "kernelspec": {
      "name": "python3",
      "display_name": "Python 3"
    },
    "language_info": {
      "name": "python"
    }
  },
  "cells": [
    {
      "cell_type": "markdown",
      "metadata": {
        "id": "view-in-github",
        "colab_type": "text"
      },
      "source": [
        "<a href=\"https://colab.research.google.com/github/matovubasahir/Matovu_/blob/main/kam_class_I_%26_II.ipynb\" target=\"_parent\"><img src=\"https://colab.research.google.com/assets/colab-badge.svg\" alt=\"Open In Colab\"/></a>"
      ]
    },
    {
      "cell_type": "code",
      "execution_count": null,
      "metadata": {
        "colab": {
          "base_uri": "https://localhost:8080/"
        },
        "id": "knILOUQwHVuj",
        "outputId": "10456a33-9a0d-4d37-aaa1-33a6b9650ef4"
      },
      "outputs": [
        {
          "output_type": "stream",
          "name": "stdout",
          "text": [
            "Hello, World!\n"
          ]
        }
      ],
      "source": [
        "print(\"Hello, World!\") #string"
      ]
    },
    {
      "cell_type": "code",
      "source": [
        "a = 10\n",
        "b = \"Hello, World!\"\n",
        "print(a)\n",
        "print(b)"
      ],
      "metadata": {
        "colab": {
          "base_uri": "https://localhost:8080/"
        },
        "id": "15O0tL6mKgFd",
        "outputId": "00855e36-4d25-453d-b8d1-ed68d8dc4921"
      },
      "execution_count": null,
      "outputs": [
        {
          "output_type": "stream",
          "name": "stdout",
          "text": [
            "10\n",
            "Hello, World!\n"
          ]
        }
      ]
    },
    {
      "cell_type": "markdown",
      "source": [
        "Python as a calculator"
      ],
      "metadata": {
        "id": "iFKgtA3fMT2t"
      }
    },
    {
      "cell_type": "code",
      "source": [
        "#sum #python operators\n",
        "\n",
        "\n",
        "7 + 7"
      ],
      "metadata": {
        "colab": {
          "base_uri": "https://localhost:8080/"
        },
        "id": "09WivgAVMciD",
        "outputId": "fbbe1066-d4fb-4a8b-9a9c-3a8ea22a7c1b"
      },
      "execution_count": null,
      "outputs": [
        {
          "output_type": "execute_result",
          "data": {
            "text/plain": [
              "14"
            ]
          },
          "metadata": {},
          "execution_count": 7
        }
      ]
    },
    {
      "cell_type": "code",
      "source": [
        "12 + 12"
      ],
      "metadata": {
        "colab": {
          "base_uri": "https://localhost:8080/"
        },
        "id": "9PkmYJQeP0uO",
        "outputId": "3d046fe5-a3da-420a-ad4f-9b556b2ada41"
      },
      "execution_count": null,
      "outputs": [
        {
          "output_type": "execute_result",
          "data": {
            "text/plain": [
              "24"
            ]
          },
          "metadata": {},
          "execution_count": 8
        }
      ]
    },
    {
      "cell_type": "code",
      "source": [
        "10 + 10"
      ],
      "metadata": {
        "colab": {
          "base_uri": "https://localhost:8080/"
        },
        "id": "56BiJclFMjaI",
        "outputId": "e8b31d50-15b8-4e60-e905-6c36d57e81e1"
      },
      "execution_count": null,
      "outputs": [
        {
          "output_type": "execute_result",
          "data": {
            "text/plain": [
              "20"
            ]
          },
          "metadata": {},
          "execution_count": 6
        }
      ]
    },
    {
      "cell_type": "code",
      "source": [
        "8 + 8"
      ],
      "metadata": {
        "colab": {
          "base_uri": "https://localhost:8080/"
        },
        "id": "5lmxz4tuLuhw",
        "outputId": "a7138bb5-1515-40c0-ee38-54c7d71b54ad"
      },
      "execution_count": null,
      "outputs": [
        {
          "output_type": "execute_result",
          "data": {
            "text/plain": [
              "16"
            ]
          },
          "metadata": {},
          "execution_count": 4
        }
      ]
    },
    {
      "cell_type": "code",
      "source": [
        "2 + 2"
      ],
      "metadata": {
        "colab": {
          "base_uri": "https://localhost:8080/"
        },
        "id": "DdfzX3Z7MYfu",
        "outputId": "becced74-0951-4648-faed-ba34e8b8af24"
      },
      "execution_count": null,
      "outputs": [
        {
          "output_type": "execute_result",
          "data": {
            "text/plain": [
              "4"
            ]
          },
          "metadata": {},
          "execution_count": 2
        }
      ]
    },
    {
      "cell_type": "code",
      "source": [
        "7/4"
      ],
      "metadata": {
        "colab": {
          "base_uri": "https://localhost:8080/"
        },
        "id": "sIiJMvm5Mg0G",
        "outputId": "6cfd83cc-f6e1-44fc-faf4-6293522ca540"
      },
      "execution_count": null,
      "outputs": [
        {
          "output_type": "execute_result",
          "data": {
            "text/plain": [
              "1.75"
            ]
          },
          "metadata": {},
          "execution_count": 3
        }
      ]
    },
    {
      "cell_type": "code",
      "source": [
        "7 % 3"
      ],
      "metadata": {
        "colab": {
          "base_uri": "https://localhost:8080/"
        },
        "id": "30kAHAwKMogV",
        "outputId": "ebfdc20e-8afb-40c6-ac88-866a06e5855a"
      },
      "execution_count": null,
      "outputs": [
        {
          "output_type": "execute_result",
          "data": {
            "text/plain": [
              "1"
            ]
          },
          "metadata": {},
          "execution_count": 6
        }
      ]
    },
    {
      "cell_type": "code",
      "source": [
        "7 / 3"
      ],
      "metadata": {
        "colab": {
          "base_uri": "https://localhost:8080/"
        },
        "id": "Yzi9WV-sMxpJ",
        "outputId": "06a97aad-6490-4497-8364-5629c0a46208"
      },
      "execution_count": null,
      "outputs": [
        {
          "output_type": "execute_result",
          "data": {
            "text/plain": [
              "2.3333333333333335"
            ]
          },
          "metadata": {},
          "execution_count": 7
        }
      ]
    },
    {
      "cell_type": "code",
      "source": [
        "7 - 3"
      ],
      "metadata": {
        "colab": {
          "base_uri": "https://localhost:8080/"
        },
        "id": "7P7O9RKmM2eV",
        "outputId": "315ea175-3f72-4f5c-9b2b-7103bc2c9adf"
      },
      "execution_count": null,
      "outputs": [
        {
          "output_type": "execute_result",
          "data": {
            "text/plain": [
              "4"
            ]
          },
          "metadata": {},
          "execution_count": 8
        }
      ]
    },
    {
      "cell_type": "code",
      "source": [
        "2 * 3"
      ],
      "metadata": {
        "colab": {
          "base_uri": "https://localhost:8080/"
        },
        "id": "4UWQ03b3M_4Q",
        "outputId": "0a06db52-3179-4486-8af7-3c2909721690"
      },
      "execution_count": null,
      "outputs": [
        {
          "output_type": "execute_result",
          "data": {
            "text/plain": [
              "6"
            ]
          },
          "metadata": {},
          "execution_count": 9
        }
      ]
    },
    {
      "cell_type": "code",
      "source": [
        "2 ** 3 #(2*2*2)"
      ],
      "metadata": {
        "colab": {
          "base_uri": "https://localhost:8080/"
        },
        "id": "7ck-JqOmNByA",
        "outputId": "3a696d01-7635-45a2-a680-bcd85c469589"
      },
      "execution_count": null,
      "outputs": [
        {
          "output_type": "execute_result",
          "data": {
            "text/plain": [
              "8"
            ]
          },
          "metadata": {},
          "execution_count": 10
        }
      ]
    },
    {
      "cell_type": "code",
      "source": [
        " 2 / 3"
      ],
      "metadata": {
        "colab": {
          "base_uri": "https://localhost:8080/"
        },
        "id": "4H8O39gONGBZ",
        "outputId": "79e11972-8c28-4915-cb16-215b7b831a9e"
      },
      "execution_count": null,
      "outputs": [
        {
          "output_type": "execute_result",
          "data": {
            "text/plain": [
              "0.6666666666666666"
            ]
          },
          "metadata": {},
          "execution_count": 11
        }
      ]
    },
    {
      "cell_type": "code",
      "source": [
        "2 // 3"
      ],
      "metadata": {
        "colab": {
          "base_uri": "https://localhost:8080/"
        },
        "id": "m-h5CvtzNiM0",
        "outputId": "48e04e53-4550-429f-fce7-fc265d195aa1"
      },
      "execution_count": null,
      "outputs": [
        {
          "output_type": "execute_result",
          "data": {
            "text/plain": [
              "0"
            ]
          },
          "metadata": {},
          "execution_count": 12
        }
      ]
    },
    {
      "cell_type": "code",
      "source": [
        "0.1 + 0.2"
      ],
      "metadata": {
        "colab": {
          "base_uri": "https://localhost:8080/"
        },
        "id": "Zb-5HCGDNktH",
        "outputId": "7164df42-7437-4d66-ea66-1bf04ed39f7e"
      },
      "execution_count": null,
      "outputs": [
        {
          "output_type": "execute_result",
          "data": {
            "text/plain": [
              "0.30000000000000004"
            ]
          },
          "metadata": {},
          "execution_count": 13
        }
      ]
    },
    {
      "cell_type": "code",
      "source": [
        "0.3 - 0.3"
      ],
      "metadata": {
        "colab": {
          "base_uri": "https://localhost:8080/"
        },
        "id": "3WmR9RJvN7_w",
        "outputId": "ffae5265-9b65-4f82-9d7e-d1f7ec854768"
      },
      "execution_count": null,
      "outputs": [
        {
          "output_type": "execute_result",
          "data": {
            "text/plain": [
              "0.0"
            ]
          },
          "metadata": {},
          "execution_count": 14
        }
      ]
    },
    {
      "cell_type": "code",
      "source": [
        "0.1 + 0.2 - 0.3"
      ],
      "metadata": {
        "colab": {
          "base_uri": "https://localhost:8080/"
        },
        "id": "IRxXfI7BOBMk",
        "outputId": "b21b7c8c-3351-445e-dfd3-dd922a5b2b4e"
      },
      "execution_count": null,
      "outputs": [
        {
          "output_type": "execute_result",
          "data": {
            "text/plain": [
              "5.551115123125783e-17"
            ]
          },
          "metadata": {},
          "execution_count": 15
        }
      ]
    },
    {
      "cell_type": "code",
      "source": [
        "# variables\n",
        "\n",
        "#intergers - whole numbers\n",
        "#float - decimal\n",
        "#strings - characters\n",
        "\n",
        "\n",
        "my_oranges = 10\n",
        "\n",
        "print(my_oranges)"
      ],
      "metadata": {
        "colab": {
          "base_uri": "https://localhost:8080/"
        },
        "id": "cHTUcaYgQyfE",
        "outputId": "479f9572-0704-4cef-d766-6598b7ca378f"
      },
      "execution_count": null,
      "outputs": [
        {
          "output_type": "stream",
          "name": "stdout",
          "text": [
            "10\n"
          ]
        }
      ]
    },
    {
      "cell_type": "code",
      "source": [
        "print(10)"
      ],
      "metadata": {
        "colab": {
          "base_uri": "https://localhost:8080/"
        },
        "id": "AclP5PqERi96",
        "outputId": "1f1b68c9-9c93-4a06-f464-3cb51613f790"
      },
      "execution_count": null,
      "outputs": [
        {
          "output_type": "stream",
          "name": "stdout",
          "text": [
            "10\n"
          ]
        }
      ]
    },
    {
      "cell_type": "code",
      "source": [
        "my_dogs = 2 #variables\n",
        "print(my_dogs)"
      ],
      "metadata": {
        "colab": {
          "base_uri": "https://localhost:8080/"
        },
        "id": "7lVSgzMMOJD9",
        "outputId": "2bf01e92-89d6-40e7-8f92-5f585294847d"
      },
      "execution_count": null,
      "outputs": [
        {
          "output_type": "stream",
          "name": "stdout",
          "text": [
            "2\n"
          ]
        }
      ]
    },
    {
      "cell_type": "code",
      "source": [
        "#strings\n",
        "\n",
        "my_name = \"Bashir\"\n",
        "\n",
        "print(my_name)"
      ],
      "metadata": {
        "colab": {
          "base_uri": "https://localhost:8080/"
        },
        "id": "C8_XE700RwSm",
        "outputId": "5288f92e-a569-4af8-afc2-abc1ea83b563"
      },
      "execution_count": null,
      "outputs": [
        {
          "output_type": "stream",
          "name": "stdout",
          "text": [
            "Bashir\n"
          ]
        }
      ]
    },
    {
      "cell_type": "code",
      "source": [
        "class_name = \"Auntie Claire's Python Class\"\n",
        "print(class_name)"
      ],
      "metadata": {
        "colab": {
          "base_uri": "https://localhost:8080/"
        },
        "id": "6uJa23eGPPt4",
        "outputId": "a3595f32-70ad-4e3e-eb28-05d27d189853"
      },
      "execution_count": null,
      "outputs": [
        {
          "output_type": "stream",
          "name": "stdout",
          "text": [
            "Auntie Claire's Python Class\n"
          ]
        }
      ]
    },
    {
      "cell_type": "code",
      "source": [
        "#variable\n",
        "\n",
        "my_dogs = 2\n",
        "print(my_dogs)"
      ],
      "metadata": {
        "colab": {
          "base_uri": "https://localhost:8080/"
        },
        "id": "egPn3NGaP-Nn",
        "outputId": "e5efcd08-7370-469d-8aa6-3b8ec2f3eb49"
      },
      "execution_count": null,
      "outputs": [
        {
          "output_type": "stream",
          "name": "stdout",
          "text": [
            "2\n"
          ]
        }
      ]
    },
    {
      "cell_type": "code",
      "source": [
        "print(type(my_dogs))"
      ],
      "metadata": {
        "colab": {
          "base_uri": "https://localhost:8080/"
        },
        "id": "cBnrOv0HUOsu",
        "outputId": "abbd7c03-2558-4174-9321-e62159be0e5a"
      },
      "execution_count": null,
      "outputs": [
        {
          "output_type": "stream",
          "name": "stdout",
          "text": [
            "<class 'int'>\n"
          ]
        }
      ]
    },
    {
      "cell_type": "code",
      "source": [
        "my_dogs = 0.9\n",
        "\n",
        "print(my_dogs)"
      ],
      "metadata": {
        "colab": {
          "base_uri": "https://localhost:8080/"
        },
        "id": "31FHBYvvUZ30",
        "outputId": "8832b1b5-4520-4026-d806-b3c70e3598bf"
      },
      "execution_count": null,
      "outputs": [
        {
          "output_type": "stream",
          "name": "stdout",
          "text": [
            "0.9\n"
          ]
        }
      ]
    },
    {
      "cell_type": "code",
      "source": [
        "print(type(my_dogs))"
      ],
      "metadata": {
        "colab": {
          "base_uri": "https://localhost:8080/"
        },
        "id": "oOORNeEsUoiQ",
        "outputId": "22d95a97-dd06-4aee-c0ec-20bc5131e205"
      },
      "execution_count": null,
      "outputs": [
        {
          "output_type": "stream",
          "name": "stdout",
          "text": [
            "<class 'float'>\n"
          ]
        }
      ]
    },
    {
      "cell_type": "code",
      "source": [
        "my_dogs = \"Sammy\",\"Frankie\"\n",
        "\n",
        "print(my_dogs)"
      ],
      "metadata": {
        "colab": {
          "base_uri": "https://localhost:8080/"
        },
        "id": "DC-vLllHTDLb",
        "outputId": "19ed6720-c122-4ae0-9085-98ce0120f38c"
      },
      "execution_count": null,
      "outputs": [
        {
          "output_type": "stream",
          "name": "stdout",
          "text": [
            "('Sammy', 'Frankie')\n"
          ]
        }
      ]
    },
    {
      "cell_type": "code",
      "source": [
        "# strings\n",
        "\n",
        "# list []\n",
        "\n",
        "my_dogs = ['Sammy', 'Frankie']\n",
        "\n",
        "print(my_dogs)"
      ],
      "metadata": {
        "colab": {
          "base_uri": "https://localhost:8080/"
        },
        "id": "hGGVWkccQAKS",
        "outputId": "7a4921b4-a699-4030-c478-aeb540fd1516"
      },
      "execution_count": null,
      "outputs": [
        {
          "output_type": "stream",
          "name": "stdout",
          "text": [
            "['Sammy', 'Frankie']\n"
          ]
        }
      ]
    },
    {
      "cell_type": "code",
      "source": [
        "my_dogs = ['Sammy', 'Frankie']\n",
        "print(my_dogs)"
      ],
      "metadata": {
        "colab": {
          "base_uri": "https://localhost:8080/"
        },
        "id": "1TQmES6CQeBP",
        "outputId": "1cb70d87-9c62-4ae8-9add-cc673e785e6b"
      },
      "execution_count": null,
      "outputs": [
        {
          "output_type": "stream",
          "name": "stdout",
          "text": [
            "['Sammy', 'Frankie']\n"
          ]
        }
      ]
    },
    {
      "cell_type": "code",
      "source": [
        "print(type(my_dogs))"
      ],
      "metadata": {
        "colab": {
          "base_uri": "https://localhost:8080/"
        },
        "id": "gmiRoFCMTulz",
        "outputId": "af1c2b17-aacb-4159-e642-c64ca4ee4742"
      },
      "execution_count": null,
      "outputs": [
        {
          "output_type": "stream",
          "name": "stdout",
          "text": [
            "<class 'list'>\n"
          ]
        }
      ]
    },
    {
      "cell_type": "code",
      "source": [
        "print(type(my_dogs))"
      ],
      "metadata": {
        "colab": {
          "base_uri": "https://localhost:8080/"
        },
        "id": "cVj1ELRYQkPi",
        "outputId": "a18ce21d-7d10-4ec3-acc2-c33e0d30c318"
      },
      "execution_count": null,
      "outputs": [
        {
          "output_type": "stream",
          "name": "stdout",
          "text": [
            "<class 'list'>\n"
          ]
        }
      ]
    },
    {
      "cell_type": "code",
      "source": [
        "my_dogs = 2\n",
        "print(type(my_dogs))"
      ],
      "metadata": {
        "colab": {
          "base_uri": "https://localhost:8080/"
        },
        "id": "nfdZV7gOQ0-i",
        "outputId": "1479d1a5-891b-4dcd-b8d6-0f0eb1d2ed24"
      },
      "execution_count": null,
      "outputs": [
        {
          "output_type": "stream",
          "name": "stdout",
          "text": [
            "<class 'int'>\n"
          ]
        }
      ]
    },
    {
      "cell_type": "code",
      "source": [
        "#String index positive\n",
        "\n",
        "#H - 0\n",
        "#e - 1\n",
        "#l - 2\n",
        "#l - 3\n",
        "#o - 4\n",
        "\n",
        "#reverse index - negative\n",
        "\n",
        "#o - -1\n",
        "\n",
        "character = \"Hello\"\n",
        "\n",
        "\n",
        "print(character[-3])"
      ],
      "metadata": {
        "id": "tfrT0J5MRG3J",
        "colab": {
          "base_uri": "https://localhost:8080/"
        },
        "outputId": "b270622f-0af2-4ff6-9e0f-5ab6227f81eb"
      },
      "execution_count": null,
      "outputs": [
        {
          "output_type": "stream",
          "name": "stdout",
          "text": [
            "l\n"
          ]
        }
      ]
    },
    {
      "cell_type": "code",
      "source": [
        "#reverse index\n",
        "\n",
        "character = \"Hello\"\n",
        "print(character[-4])"
      ],
      "metadata": {
        "colab": {
          "base_uri": "https://localhost:8080/"
        },
        "id": "fsv9uNU7Lgcc",
        "outputId": "560c89ea-e651-4411-d212-89b08b389215"
      },
      "execution_count": null,
      "outputs": [
        {
          "output_type": "stream",
          "name": "stdout",
          "text": [
            "e\n"
          ]
        }
      ]
    },
    {
      "cell_type": "code",
      "source": [
        "#silcing [::]\n",
        "\n",
        "#[0:4] Start from 0 to 4\n",
        "\n",
        "#[::] Start from begining to end\n",
        "\n",
        "character = \"Hello\"\n",
        "print(character[::]) #starting from begining to end"
      ],
      "metadata": {
        "colab": {
          "base_uri": "https://localhost:8080/"
        },
        "id": "dN8fwW9AMHjv",
        "outputId": "56b6d6f2-f113-451f-b9d7-297c1d782583"
      },
      "execution_count": null,
      "outputs": [
        {
          "output_type": "stream",
          "name": "stdout",
          "text": [
            "Hello\n"
          ]
        }
      ]
    },
    {
      "cell_type": "code",
      "source": [
        "character = \"Hello\"\n",
        "print(character[2:])  #starting from 2 to the end"
      ],
      "metadata": {
        "colab": {
          "base_uri": "https://localhost:8080/"
        },
        "id": "yMQ7HUCLMWNY",
        "outputId": "b672ab56-e790-4dfe-9b83-119f82cd7f83"
      },
      "execution_count": null,
      "outputs": [
        {
          "output_type": "stream",
          "name": "stdout",
          "text": [
            "llo\n"
          ]
        }
      ]
    },
    {
      "cell_type": "code",
      "source": [
        "character = \"Hello\"\n",
        "print(character[:2]) #starting from begining to 2"
      ],
      "metadata": {
        "colab": {
          "base_uri": "https://localhost:8080/"
        },
        "id": "f1CfbJvEM30y",
        "outputId": "40447ff4-1839-4353-92c5-bf1873b8a5fe"
      },
      "execution_count": null,
      "outputs": [
        {
          "output_type": "stream",
          "name": "stdout",
          "text": [
            "He\n"
          ]
        }
      ]
    },
    {
      "cell_type": "code",
      "source": [
        "character = \"Hello\"\n",
        "print(character[1:3]) #starting from 1 to 3 middle"
      ],
      "metadata": {
        "colab": {
          "base_uri": "https://localhost:8080/"
        },
        "id": "bQCCi704NEXK",
        "outputId": "752be891-05f6-4751-e6f4-8a92c8323712"
      },
      "execution_count": null,
      "outputs": [
        {
          "output_type": "stream",
          "name": "stdout",
          "text": [
            "el\n"
          ]
        }
      ]
    },
    {
      "cell_type": "code",
      "source": [
        "#silcing [Start:End:Step]\n",
        "\n",
        "character = \"Hello\"\n",
        "\n",
        "print(character[::2]) #starting from begining to end with step 2"
      ],
      "metadata": {
        "colab": {
          "base_uri": "https://localhost:8080/"
        },
        "id": "dgeOFx0SNUJ0",
        "outputId": "7953a96c-2c18-4bf2-a734-134887771ca0"
      },
      "execution_count": null,
      "outputs": [
        {
          "output_type": "stream",
          "name": "stdout",
          "text": [
            "Hlo\n"
          ]
        }
      ]
    },
    {
      "cell_type": "code",
      "source": [
        "character = \"Hello\"\n",
        "print(character[::-1]) #reverse string"
      ],
      "metadata": {
        "colab": {
          "base_uri": "https://localhost:8080/"
        },
        "id": "l5j60Rr3NxyH",
        "outputId": "fc92dc9c-8cd3-475e-e969-f670777c978f"
      },
      "execution_count": null,
      "outputs": [
        {
          "output_type": "stream",
          "name": "stdout",
          "text": [
            "olleH\n"
          ]
        }
      ]
    },
    {
      "cell_type": "markdown",
      "source": [],
      "metadata": {
        "id": "yR9C0wt6Qvle"
      }
    },
    {
      "cell_type": "markdown",
      "source": [
        "**HOME WORK **\n",
        "\n",
        "\n",
        "\n",
        "\n",
        "1.   Print the name of your school  \n",
        "2. Print three words let each word be on its own line\n",
        "3. Use len to give me the size of the word ‘anaconda’\n",
        "\n",
        "B. String Slicing\n",
        "Use string slicing to grab the word ink from inside tinker\n",
        "For example ‘education’[3:6] returns ‘cat’\n",
        "Remember that when slicing you only go up to but not including the end index\n",
        "\n",
        "You should only write one line of code for this. Do not assign a variable name to the string\n",
        "\n",
        "\n",
        "C. String Indexing\n",
        "Write a string index that returns just the letter ‘r’ from ‘Hello World’\n",
        "\n",
        "For example ‘Hello World’[0] returns ‘H’\n",
        "\n",
        "You should only write one line of code for this. Do not assign a variable name to the string\n",
        "\n",
        "\n",
        "\n",
        "\n"
      ],
      "metadata": {
        "id": "M4wzYlheQ3Q7"
      }
    },
    {
      "cell_type": "code",
      "source": [
        "#strings\n",
        "\n",
        "school_name = \"kalinabiri secondary school\"\n",
        "\n",
        "print(school_name)\n"
      ],
      "metadata": {
        "colab": {
          "base_uri": "https://localhost:8080/"
        },
        "id": "3EsTmykRfEyp",
        "outputId": "00852662-eb71-4fc3-af13-299f024879b4"
      },
      "execution_count": null,
      "outputs": [
        {
          "output_type": "stream",
          "name": "stdout",
          "text": [
            "kalinabiri secondary school\n"
          ]
        }
      ]
    },
    {
      "cell_type": "code",
      "source": [
        "school_name = \"kalinabiri\"\n",
        "\n",
        "print(school_name)"
      ],
      "metadata": {
        "colab": {
          "base_uri": "https://localhost:8080/"
        },
        "id": "O3JTD8o1gH4D",
        "outputId": "93662527-0929-4ea9-e86f-9fe9ff150efb"
      },
      "execution_count": null,
      "outputs": [
        {
          "output_type": "stream",
          "name": "stdout",
          "text": [
            "kalinabiri\n"
          ]
        }
      ]
    },
    {
      "cell_type": "code",
      "source": [
        "school_name = \"secondary\"\n",
        "\n",
        "print(school_name)"
      ],
      "metadata": {
        "id": "dFNYcGa7gkDv",
        "colab": {
          "base_uri": "https://localhost:8080/"
        },
        "outputId": "25411616-2ab5-4e94-b229-de69801310a2"
      },
      "execution_count": null,
      "outputs": [
        {
          "output_type": "stream",
          "name": "stdout",
          "text": [
            "secondary\n"
          ]
        }
      ]
    },
    {
      "cell_type": "code",
      "source": [
        "school_name = \"school\"\n",
        "\n",
        "print(school_name)"
      ],
      "metadata": {
        "colab": {
          "base_uri": "https://localhost:8080/"
        },
        "id": "d7j_A1IEmwOi",
        "outputId": "a7c703b4-72b1-4bc9-fc75-ce8bed2e2e6f"
      },
      "execution_count": null,
      "outputs": [
        {
          "output_type": "stream",
          "name": "stdout",
          "text": [
            "school\n"
          ]
        }
      ]
    },
    {
      "cell_type": "code",
      "source": [
        "#string index positive\n",
        "\n",
        "anaconda\n",
        "\n",
        "#a-0\n",
        "#n-1\n",
        "#a-2\n",
        "#c-3\n",
        "#o-4\n",
        "#n-5\n",
        "#d-6\n",
        "#a-7\n",
        "\n",
        "#reverse index - negative\n",
        "\n"
      ],
      "metadata": {
        "id": "HTEzz1_fnPEW"
      },
      "execution_count": null,
      "outputs": []
    },
    {
      "cell_type": "code",
      "source": [
        "#silicing [::]\n"
      ],
      "metadata": {
        "id": "9jUrTlghs-WO"
      },
      "execution_count": null,
      "outputs": []
    }
  ]
}